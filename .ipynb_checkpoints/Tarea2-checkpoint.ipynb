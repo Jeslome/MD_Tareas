{
 "cells": [
  {
   "cell_type": "markdown",
   "metadata": {},
   "source": [
    "# Parte 1 y 2:Coleccciones, tarea 'Python'"
   ]
  },
  {
   "cell_type": "markdown",
   "metadata": {},
   "source": [
    "## Tuplas"
   ]
  },
  {
   "cell_type": "markdown",
   "metadata": {},
   "source": [
    "La tuplas son colecciones que en su estructura se parecen a las listas, con la diferencia de que estas son inmutables."
   ]
  },
  {
   "cell_type": "markdown",
   "metadata": {},
   "source": [
    "### Ejercicio 1:"
   ]
  },
  {
   "cell_type": "markdown",
   "metadata": {},
   "source": [
    "Cree  una tupla que contenga la siguiente información: 200, Hello, [1,2,3,4],-60. Después de crearla verifique su inmitabilidad."
   ]
  },
  {
   "cell_type": "code",
   "execution_count": 3,
   "metadata": {},
   "outputs": [
    {
     "data": {
      "text/plain": [
       "(200, 'Hello', [1, 2, 3, 4])"
      ]
     },
     "execution_count": 3,
     "metadata": {},
     "output_type": "execute_result"
    }
   ],
   "source": [
    "tupla=(200,\"Hello\",[1,2,3,4])\n",
    "tupla\n"
   ]
  },
  {
   "cell_type": "code",
   "execution_count": 5,
   "metadata": {},
   "outputs": [
    {
     "ename": "TypeError",
     "evalue": "'tuple' object does not support item assignment",
     "output_type": "error",
     "traceback": [
      "\u001b[1;31m---------------------------------------------------------------------------\u001b[0m",
      "\u001b[1;31mTypeError\u001b[0m                                 Traceback (most recent call last)",
      "\u001b[1;32m<ipython-input-5-197be4f7a493>\u001b[0m in \u001b[0;36m<module>\u001b[1;34m\u001b[0m\n\u001b[1;32m----> 1\u001b[1;33m \u001b[0mtupla\u001b[0m\u001b[1;33m[\u001b[0m\u001b[1;36m0\u001b[0m\u001b[1;33m]\u001b[0m\u001b[1;33m=\u001b[0m\u001b[1;36m40\u001b[0m\u001b[1;33m\u001b[0m\u001b[1;33m\u001b[0m\u001b[0m\n\u001b[0m",
      "\u001b[1;31mTypeError\u001b[0m: 'tuple' object does not support item assignment"
     ]
    }
   ],
   "source": [
    "tupla[0]=40"
   ]
  },
  {
   "cell_type": "markdown",
   "metadata": {},
   "source": [
    "Como se puede ver, al intentar cambiar el elemento 1 de la tupla por otro elemento, Python nos muestra un error, dado que la tupla es inmutable. Por lo que queda verificada esta propiedad."
   ]
  },
  {
   "cell_type": "markdown",
   "metadata": {},
   "source": [
    "### Ejercicio 2"
   ]
  },
  {
   "cell_type": "markdown",
   "metadata": {},
   "source": [
    "Utilizanso la tupla anteriormente creada muestre la propiedad de indexación de las tuplas e indique cuál es la longitud de dicha tupla."
   ]
  },
  {
   "cell_type": "code",
   "execution_count": 7,
   "metadata": {},
   "outputs": [
    {
     "name": "stdout",
     "output_type": "stream",
     "text": [
      "200\n",
      "Hello\n",
      "[1, 2, 3, 4]\n"
     ]
    }
   ],
   "source": [
    "#Elemento 1 de la tupla\n",
    "print(tupla[0])\n",
    "#Elemento 2 de la tupla\n",
    "print(tupla[1])\n",
    "#Elemento 2 de la tupla\n",
    "print(tupla[2])"
   ]
  },
  {
   "cell_type": "code",
   "execution_count": 8,
   "metadata": {},
   "outputs": [
    {
     "name": "stdout",
     "output_type": "stream",
     "text": [
      "3\n"
     ]
    }
   ],
   "source": [
    "print(len(tupla)) #Longitud de la tupla"
   ]
  },
  {
   "cell_type": "markdown",
   "metadata": {},
   "source": [
    "## Conjuntos"
   ]
  },
  {
   "cell_type": "markdown",
   "metadata": {},
   "source": [
    "Son colecciones desordenadas de elementos únicos utilizados para hacer pruebas de pertenencia a grupos y eliminación de elementos duplicados [Fuente:Hektor Docs](https://docs.hektorprofe.net/python/colecciones-de-datos/conjuntos/)"
   ]
  },
  {
   "cell_type": "markdown",
   "metadata": {},
   "source": [
    "### Ejercicio 1"
   ]
  },
  {
   "cell_type": "markdown",
   "metadata": {},
   "source": [
    "Cree un conjunto con los siguientes elementos: 1,4,11,88,56. Añada al conjunto inicialmente creado el elemento 33. Luego añada los elementos 'A','B','C'Finalmente verifique si el elemeto 42 se encuentra en el conjunto final."
   ]
  },
  {
   "cell_type": "code",
   "execution_count": 11,
   "metadata": {},
   "outputs": [
    {
     "name": "stdout",
     "output_type": "stream",
     "text": [
      "{1, 4, 11, 88, 56}\n",
      "{1, 33, 4, 11, 88, 56}\n",
      "{1, 33, 'C', 4, 'A', 11, 88, 'B', 56}\n"
     ]
    },
    {
     "data": {
      "text/plain": [
       "False"
      ]
     },
     "execution_count": 11,
     "metadata": {},
     "output_type": "execute_result"
    }
   ],
   "source": [
    "conjunto={1,4,11,88,56} #Conjunto creado\n",
    "print(conjunto)\n",
    "conjunto.add(33)#Elemento 33 agregado al conjunto\n",
    "print(conjunto)\n",
    "conjunto.add('A') #Elemento A agregado al conjunto\n",
    "conjunto.add('B') #Elemento B agregado al conjunto\n",
    "conjunto.add('C') #Elemento C agregado al conjunto\n",
    "print(conjunto)\n",
    "\n",
    "42 in conjunto"
   ]
  },
  {
   "cell_type": "markdown",
   "metadata": {},
   "source": [
    "Como se puede ver, el elemento 42 no es un elemento del conjunto"
   ]
  },
  {
   "cell_type": "markdown",
   "metadata": {},
   "source": [
    "### Ejercicio 2"
   ]
  },
  {
   "cell_type": "markdown",
   "metadata": {},
   "source": [
    "Muestre a través de un ejemplo la propiedad de los conjuntos de no contener elementos duplicados o repetidos."
   ]
  },
  {
   "cell_type": "code",
   "execution_count": 12,
   "metadata": {},
   "outputs": [
    {
     "name": "stdout",
     "output_type": "stream",
     "text": [
      "{'Amigo', 'Amiga'}\n"
     ]
    }
   ],
   "source": [
    "grupo={'Amiga','Amigo','Amiga','Amigo'}\n",
    "print(grupo)\n"
   ]
  },
  {
   "cell_type": "markdown",
   "metadata": {},
   "source": [
    "Como se puede ver sólo deja un elemento por cada duplicado o elemento repetido."
   ]
  },
  {
   "cell_type": "markdown",
   "metadata": {},
   "source": [
    "## Diccionarios"
   ]
  },
  {
   "cell_type": "markdown",
   "metadata": {},
   "source": [
    "Son junto a las listas las colecciones más utilizadas y se basan en una estructura mapeada donde cada elemento de la colección se encuentra identificado con una clave única, por lo que no puede haber dos claves iguales. En otros lenguajes se conocen como arreglos asociativos [Fuente:Hektor Docs](https://docs.hektorprofe.net/python/colecciones-de-datos/conjuntos/)."
   ]
  },
  {
   "cell_type": "markdown",
   "metadata": {},
   "source": [
    "### Ejercicio 1"
   ]
  },
  {
   "cell_type": "code",
   "execution_count": null,
   "metadata": {},
   "outputs": [],
   "source": [
    "Después de crear el  siguiente diccionario: colores = {'amarillo':'yellow','azul':'blue'}, consulta el valor de la clave amarillo, seguidamente muestre las llaves del diccionario creado."
   ]
  },
  {
   "cell_type": "code",
   "execution_count": 26,
   "metadata": {},
   "outputs": [
    {
     "name": "stdout",
     "output_type": "stream",
     "text": [
      "dict_keys(['amarillo', 'azul'])\n"
     ]
    }
   ],
   "source": [
    "colores={'amarillo':'yellow','azul':'blue'}\n",
    "colores['amarillo']\n",
    "print(colores.keys())"
   ]
  },
  {
   "cell_type": "markdown",
   "metadata": {},
   "source": [
    "Como podemos ver, el valor que contiene la plabara clave 'amarillo' es 'yellow' y las palabras claves relacionadas con el diccionario creado son: amarillo y azul."
   ]
  },
  {
   "cell_type": "markdown",
   "metadata": {},
   "source": [
    "### Ejercicio 2"
   ]
  },
  {
   "cell_type": "markdown",
   "metadata": {},
   "source": [
    "Al diccionario creado anteriormente, reescribe el valor de la clave 'amarillo' con el valor 'colors'."
   ]
  },
  {
   "cell_type": "code",
   "execution_count": 15,
   "metadata": {},
   "outputs": [
    {
     "name": "stdout",
     "output_type": "stream",
     "text": [
      "{'amarillo': 'colors', 'azul': 'blue'}\n"
     ]
    }
   ],
   "source": [
    "colores['amarillo']='colors'\n",
    "print(colores)"
   ]
  },
  {
   "cell_type": "markdown",
   "metadata": {},
   "source": [
    "Como podemos ver el valor de la palabra clave 'amarillo' ya no es 'yellow' sino colors."
   ]
  },
  {
   "cell_type": "markdown",
   "metadata": {},
   "source": [
    "## Listas\n"
   ]
  },
  {
   "cell_type": "markdown",
   "metadata": {},
   "source": [
    "Una lista en Python es una estructura de datos formada por una secuencia ordenada de objetos [Fuente: covantec](https://entrenamiento-python-basico.readthedocs.io/es/latest/leccion3/tipo_listas.html#:~:text=Una%20lista%20en%20Python%20es,el%20%C3%ADndice%20del%20primer%20elemento.&text=La%20funci%C3%B3n%20len()%20devuelve,(su%20cantidad%20de%20elementos).)"
   ]
  },
  {
   "cell_type": "markdown",
   "metadata": {},
   "source": [
    "### Ejercicio 1"
   ]
  },
  {
   "cell_type": "markdown",
   "metadata": {},
   "source": [
    "Cree una lista con los siguientes elementos: pan, huevos, 100, 12000. Seguidamente muestre la longitud de la lista y su último elemento."
   ]
  },
  {
   "cell_type": "code",
   "execution_count": 20,
   "metadata": {},
   "outputs": [
    {
     "name": "stdout",
     "output_type": "stream",
     "text": [
      "['pan', 'huevos', 100, 12000]\n",
      "4\n",
      "12000\n"
     ]
    }
   ],
   "source": [
    "factura=['pan','huevos',100,12000] #Lista creada\n",
    "print(factura) #Muestra la lista\n",
    "print(len(factura)) #longitud de la lista\n",
    "print(factura[len(factura)-1]) #último elemento de la lista"
   ]
  },
  {
   "cell_type": "markdown",
   "metadata": {},
   "source": [
    "Como podemos ver la longitud de la lista es 4 y su últomo elemento es 12000"
   ]
  },
  {
   "cell_type": "markdown",
   "metadata": {},
   "source": [
    "### Ejercicio 2"
   ]
  },
  {
   "cell_type": "markdown",
   "metadata": {},
   "source": [
    "Agregue el elementos 'costo' al final de la lista creada en el ejercicio anterior y genere una copia de la lista con este último elemento."
   ]
  },
  {
   "cell_type": "code",
   "execution_count": 24,
   "metadata": {},
   "outputs": [
    {
     "name": "stdout",
     "output_type": "stream",
     "text": [
      "['pan', 'huevos', 100, 12000, 'costo', 'costo', 'costo', 'costo']\n",
      "['pan', 'huevos', 100, 12000, 'costo', 'costo', 'costo', 'costo']\n"
     ]
    }
   ],
   "source": [
    "factura.append('costo')\n",
    "print(factura)\n",
    "factura_2=factura.copy()\n",
    "print(factura_2)"
   ]
  },
  {
   "cell_type": "markdown",
   "metadata": {},
   "source": [
    "Como se puede ver, el elemento 'costo' fue agregado al final de la lista y fue creada una copia de la lista factura llamada factura_2"
   ]
  },
  {
   "cell_type": "markdown",
   "metadata": {},
   "source": [
    "# Parte 2 y 3 de la tarea 'Python'"
   ]
  },
  {
   "cell_type": "code",
   "execution_count": 35,
   "metadata": {},
   "outputs": [
    {
     "name": "stdout",
     "output_type": "stream",
     "text": [
      "   numero_de_cuenta              nombre_del_cliente  saldo_actual  \\\n",
      "0           8661881  William Efrain Herrera William       5191000   \n",
      "\n",
      "  fecha_ultima_transaccion  \n",
      "0               2020-02-20  \n",
      "   numero_de_cuenta nombre_del_cliente  saldo_actual fecha_ultima_transaccion\n",
      "1           1653390  Jose  Fausto Jose       8511203               2021-11-23\n",
      "   numero_de_cuenta            nombre_del_cliente  saldo_actual  \\\n",
      "2           1019154  Elena Amparo Peregrino Elena      13634469   \n",
      "\n",
      "  fecha_ultima_transaccion  \n",
      "2               2018-11-07  \n",
      "   numero_de_cuenta         nombre_del_cliente  saldo_actual  \\\n",
      "3           2074929  Maria Amparo Aragon Maria       7766805   \n",
      "\n",
      "  fecha_ultima_transaccion  \n",
      "3               2021-05-28  \n",
      "   numero_de_cuenta           nombre_del_cliente  saldo_actual  \\\n",
      "4           8166429  Guefry Leider Mendez Guefry       4320366   \n",
      "\n",
      "  fecha_ultima_transaccion  \n",
      "4               2022-06-06  \n",
      "   numero_de_cuenta         nombre_del_cliente  saldo_actual  \\\n",
      "5           2289391  Ximena Lucia Tobar Ximena       8992645   \n",
      "\n",
      "  fecha_ultima_transaccion  \n",
      "5               2020-08-05  \n",
      "   numero_de_cuenta                nombre_del_cliente  saldo_actual  \\\n",
      "6           6476437  Guillermo Aleja Torres Guillermo       6161744   \n",
      "\n",
      "  fecha_ultima_transaccion  \n",
      "6               2021-12-15  \n",
      "   numero_de_cuenta nombre_del_cliente  saldo_actual fecha_ultima_transaccion\n",
      "7           8027670   Nora  Lopez Nora      12779366               2022-01-26\n",
      "   numero_de_cuenta       nombre_del_cliente  saldo_actual  \\\n",
      "8           9851895  Juan Carlos Garcia Juan       5915306   \n",
      "\n",
      "  fecha_ultima_transaccion  \n",
      "8               2020-01-05  \n",
      "   numero_de_cuenta nombre_del_cliente  saldo_actual fecha_ultima_transaccion\n",
      "9           2470200     Noe  Lopez Noe       8880765               2020-09-27\n",
      "    numero_de_cuenta            nombre_del_cliente  saldo_actual  \\\n",
      "10           6202816  Diego Alonso Fernandez Diego      14118168   \n",
      "\n",
      "   fecha_ultima_transaccion  \n",
      "10               2021-08-23  \n",
      "    numero_de_cuenta               nombre_del_cliente  saldo_actual  \\\n",
      "11           7841638  Carlos Alberto Velasquez Carlos      15786011   \n",
      "\n",
      "   fecha_ultima_transaccion  \n",
      "11               2021-11-22  \n",
      "    numero_de_cuenta          nombre_del_cliente  saldo_actual  \\\n",
      "12           8932762  Luis Evelio Jaramillo Luis      11629663   \n",
      "\n",
      "   fecha_ultima_transaccion  \n",
      "12               2019-07-18  \n",
      "    numero_de_cuenta            nombre_del_cliente  saldo_actual  \\\n",
      "13           2414811  Maria Cecilia Vejarano Maria      10562301   \n",
      "\n",
      "   fecha_ultima_transaccion  \n",
      "13               2021-10-19  \n",
      "    numero_de_cuenta        nombre_del_cliente  saldo_actual  \\\n",
      "14           2470301  Luis Gerardo Ortega Luis       4726771   \n",
      "\n",
      "   fecha_ultima_transaccion  \n",
      "14               2018-08-09  \n",
      "    numero_de_cuenta    nombre_del_cliente  saldo_actual  \\\n",
      "15           7599324  Mary Luz Camayo Mary       4205406   \n",
      "\n",
      "   fecha_ultima_transaccion  \n",
      "15               2018-08-26  \n",
      "    numero_de_cuenta         nombre_del_cliente  saldo_actual  \\\n",
      "16           1129365  Luis Alfonso Cabrera Luis      11065911   \n",
      "\n",
      "   fecha_ultima_transaccion  \n",
      "16               2021-03-15  \n",
      "    numero_de_cuenta             nombre_del_cliente  saldo_actual  \\\n",
      "17           6928746  Carlos Alberto Hidalgo Carlos      10913722   \n",
      "\n",
      "   fecha_ultima_transaccion  \n",
      "17               2022-03-14  \n",
      "    numero_de_cuenta nombre_del_cliente  saldo_actual fecha_ultima_transaccion\n",
      "18           4118786  Luz  Valencia Luz       3155799               2021-04-07\n",
      "    numero_de_cuenta       nombre_del_cliente  saldo_actual  \\\n",
      "19           6026790  Gerardo Mesias  Gerardo        896976   \n",
      "\n",
      "   fecha_ultima_transaccion  \n",
      "19               2018-05-12  \n",
      "    numero_de_cuenta            nombre_del_cliente  saldo_actual  \\\n",
      "20           3261434  Esperanza  Reinoso Esperanza      19167558   \n",
      "\n",
      "   fecha_ultima_transaccion  \n",
      "20               2018-08-19  \n",
      "    numero_de_cuenta           nombre_del_cliente  saldo_actual  \\\n",
      "21           4238429  Camilo Ernesto Sossa Camilo       2771437   \n",
      "\n",
      "   fecha_ultima_transaccion  \n",
      "21               2020-04-27  \n",
      "    numero_de_cuenta        nombre_del_cliente  saldo_actual  \\\n",
      "22           7582593  Irma Piedad Gaviria Irma      11192624   \n",
      "\n",
      "   fecha_ultima_transaccion  \n",
      "22               2019-05-23  \n",
      "    numero_de_cuenta       nombre_del_cliente  saldo_actual  \\\n",
      "23           7563757  Milton  Quintana Milton        651338   \n",
      "\n",
      "   fecha_ultima_transaccion  \n",
      "23               2020-04-10  \n",
      "    numero_de_cuenta      nombre_del_cliente  saldo_actual  \\\n",
      "24           1533245  Carlos Alberto  Carlos      13463519   \n",
      "\n",
      "   fecha_ultima_transaccion  \n",
      "24               2018-11-10  \n",
      "    numero_de_cuenta       nombre_del_cliente  saldo_actual  \\\n",
      "25           4791529  Lucia Ines Molina Lucia      19792135   \n",
      "\n",
      "   fecha_ultima_transaccion  \n",
      "25               2018-12-06  \n",
      "    numero_de_cuenta          nombre_del_cliente  saldo_actual  \\\n",
      "26           7642175  Victor Andres Arcos Victor      16176367   \n",
      "\n",
      "   fecha_ultima_transaccion  \n",
      "26               2019-04-16  \n",
      "    numero_de_cuenta    nombre_del_cliente  saldo_actual  \\\n",
      "27           5214772  Maria  Chilito Maria       7884810   \n",
      "\n",
      "   fecha_ultima_transaccion  \n",
      "27               2018-08-13  \n",
      "    numero_de_cuenta        nombre_del_cliente  saldo_actual  \\\n",
      "28           4542647  Yolanda  Legarda Yolanda       8211003   \n",
      "\n",
      "   fecha_ultima_transaccion  \n",
      "28               2018-03-04  \n",
      "    numero_de_cuenta    nombre_del_cliente  saldo_actual  \\\n",
      "29           2097062  Pedro  Escobar Pedro       1449185   \n",
      "\n",
      "   fecha_ultima_transaccion  \n",
      "29               2018-11-29  \n",
      "    numero_de_cuenta     nombre_del_cliente  saldo_actual  \\\n",
      "30           6944715  Hugo Leon Lozano Hugo       4471383   \n",
      "\n",
      "   fecha_ultima_transaccion  \n",
      "30               2018-08-06  \n",
      "    numero_de_cuenta              nombre_del_cliente  saldo_actual  \\\n",
      "31           1528843  Martha Eugenia Sandoval Martha       3429395   \n",
      "\n",
      "   fecha_ultima_transaccion  \n",
      "31               2019-03-25  \n",
      "    numero_de_cuenta      nombre_del_cliente  saldo_actual  \\\n",
      "32           4728887  Luz Angelica Saray Luz      14163012   \n",
      "\n",
      "   fecha_ultima_transaccion  \n",
      "32               2020-10-19  \n",
      "    numero_de_cuenta   nombre_del_cliente  saldo_actual  \\\n",
      "33           9105518  Magnolia   Magnolia       3580042   \n",
      "\n",
      "   fecha_ultima_transaccion  \n",
      "33               2019-03-08  \n",
      "    numero_de_cuenta        nombre_del_cliente  saldo_actual  \\\n",
      "34           4113149  Jose Orlando Florez Jose      14773565   \n",
      "\n",
      "   fecha_ultima_transaccion  \n",
      "34               2021-07-10  \n",
      "    numero_de_cuenta          nombre_del_cliente  saldo_actual  \\\n",
      "35           8487436  Elizabet  Perafan Elizabet      15385868   \n",
      "\n",
      "   fecha_ultima_transaccion  \n",
      "35               2019-02-24  \n",
      "    numero_de_cuenta            nombre_del_cliente  saldo_actual  \\\n",
      "36           4294829  Antonio Jose Salazar Antonio      17006557   \n",
      "\n",
      "   fecha_ultima_transaccion  \n",
      "36               2020-02-26  \n",
      "    numero_de_cuenta nombre_del_cliente  saldo_actual fecha_ultima_transaccion\n",
      "37           4411008  Horacio   Horacio      18708290               2018-06-18\n",
      "    numero_de_cuenta           nombre_del_cliente  saldo_actual  \\\n",
      "38           2382809  Maria Pilar Fernandez Maria      14837892   \n",
      "\n",
      "   fecha_ultima_transaccion  \n",
      "38               2021-12-15  \n",
      "    numero_de_cuenta            nombre_del_cliente  saldo_actual  \\\n",
      "39           6033572  Edgar Oswaldo Mosquera Edgar      19355067   \n",
      "\n",
      "   fecha_ultima_transaccion  \n",
      "39               2021-01-28  \n",
      "    numero_de_cuenta         nombre_del_cliente  saldo_actual  \\\n",
      "40           9101598  Fabio Aldemar Munoz Fabio       9412129   \n",
      "\n",
      "   fecha_ultima_transaccion  \n",
      "40               2019-06-09  \n",
      "    numero_de_cuenta       nombre_del_cliente  saldo_actual  \\\n",
      "41           7380315  Maria Yensi Perez Maria      11645928   \n",
      "\n",
      "   fecha_ultima_transaccion  \n",
      "41               2021-07-25  \n",
      "    numero_de_cuenta                 nombre_del_cliente  saldo_actual  \\\n",
      "42           7744026  Fernando Enrique Salazar Fernando      11357284   \n",
      "\n",
      "   fecha_ultima_transaccion  \n",
      "42               2021-03-07  \n",
      "    numero_de_cuenta     nombre_del_cliente  saldo_actual  \\\n",
      "43           6899507  Silvio  Cuervo Silvio      15814244   \n",
      "\n",
      "   fecha_ultima_transaccion  \n",
      "43               2018-07-19  \n",
      "    numero_de_cuenta           nombre_del_cliente  saldo_actual  \\\n",
      "44           6455279  Gloria Ines Gonzalez Gloria      14354371   \n",
      "\n",
      "   fecha_ultima_transaccion  \n",
      "44               2021-09-12  \n",
      "    numero_de_cuenta   nombre_del_cliente  saldo_actual  \\\n",
      "45           6952856  Carlos Hugo  Carlos       1249247   \n",
      "\n",
      "   fecha_ultima_transaccion  \n",
      "45               2018-04-03  \n"
     ]
    }
   ],
   "source": [
    "url = r'https://github.com/Jeslome/MD_Tareas/blob/main/datos.xlsx?raw=true'\n",
    "\n",
    "import pandas as pd\n",
    "\n",
    "class Cuentas(object):\n",
    "    def __init__(self, url):\n",
    "        #self.url = url\n",
    "        self.data = pd.read_excel(url)\n",
    "        self.val = 0\n",
    "        self.limit = len(self.data)-1\n",
    "        \n",
    "    \n",
    "    # Hace esta clase iterable\n",
    "    def __iter__(self):\n",
    "        return self\n",
    "    \n",
    "    # Hace esta clase un iterador\n",
    "    def __next__(self):\n",
    "        if self.val > self.limit:\n",
    "            raise StopIteration\n",
    "        else:\n",
    "            return_val = self.data.iloc[[self.val]]\n",
    "            self.val += 1\n",
    "            return return_val\n",
    "\n",
    "\n",
    "\n",
    "\n",
    "cuentas = Cuentas(url)\n",
    "\n",
    "for i in cuentas:\n",
    "    print(i)\n"
   ]
  },
  {
   "cell_type": "code",
   "execution_count": null,
   "metadata": {},
   "outputs": [],
   "source": []
  }
 ],
 "metadata": {
  "kernelspec": {
   "display_name": "Python 3",
   "language": "python",
   "name": "python3"
  },
  "language_info": {
   "codemirror_mode": {
    "name": "ipython",
    "version": 3
   },
   "file_extension": ".py",
   "mimetype": "text/x-python",
   "name": "python",
   "nbconvert_exporter": "python",
   "pygments_lexer": "ipython3",
   "version": "3.8.3"
  }
 },
 "nbformat": 4,
 "nbformat_minor": 4
}
